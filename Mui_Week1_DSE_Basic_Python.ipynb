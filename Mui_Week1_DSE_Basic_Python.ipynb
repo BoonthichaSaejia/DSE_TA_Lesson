{
  "nbformat": 4,
  "nbformat_minor": 0,
  "metadata": {
    "colab": {
      "name": "Mui_Week1_DSE_Basic_Python.ipynb",
      "provenance": [],
      "include_colab_link": true
    },
    "kernelspec": {
      "name": "python3",
      "display_name": "Python 3"
    }
  },
  "cells": [
    {
      "cell_type": "markdown",
      "metadata": {
        "id": "view-in-github",
        "colab_type": "text"
      },
      "source": [
        "<a href=\"https://colab.research.google.com/github/BoonthichaSaejia/DSE_TA_Lesson/blob/master/Mui_Week1_DSE_Basic_Python.ipynb\" target=\"_parent\"><img src=\"https://colab.research.google.com/assets/colab-badge.svg\" alt=\"Open In Colab\"/></a>"
      ]
    },
    {
      "cell_type": "code",
      "metadata": {
        "id": "qDkt4VYA4dGM",
        "colab_type": "code",
        "colab": {
          "base_uri": "https://localhost:8080/",
          "height": 51
        },
        "outputId": "ce7cc473-f364-48ea-c590-3e8c590348e0"
      },
      "source": [
        "# ตรวจสอบเวอร์ชันของ python\n",
        "import sys \n",
        "print(sys.version)"
      ],
      "execution_count": 1,
      "outputs": [
        {
          "output_type": "stream",
          "text": [
            "3.6.9 (default, Jul 17 2020, 12:50:27) \n",
            "[GCC 8.4.0]\n"
          ],
          "name": "stdout"
        }
      ]
    },
    {
      "cell_type": "markdown",
      "metadata": {
        "id": "8rH3H1h6l54f",
        "colab_type": "text"
      },
      "source": [
        "variable\n",
        "\n",
        "datatype\n",
        "  - number\n",
        "    - int\n",
        "    - float\n",
        "  - string\n",
        "  - list\n",
        "  - dictionary\n",
        "\n",
        "expression & condition\n",
        "\n",
        "loop\n",
        "  - for\n",
        "  - while\n",
        "\n",
        "function\n",
        "\n",
        "class & object\n",
        "\n",
        "library"
      ]
    },
    {
      "cell_type": "markdown",
      "metadata": {
        "id": "11Igdmb1mJOK",
        "colab_type": "text"
      },
      "source": [
        "# variable (ตัวแปร)\n",
        "เหมือนลังเก็บของ มีป้ายแปะที่ลังเป็นชื่อตัวแปร ส่วนของข้างในคือข้อมูล"
      ]
    },
    {
      "cell_type": "markdown",
      "metadata": {
        "id": "bpVeRGQ6Y4ZF",
        "colab_type": "text"
      },
      "source": [
        "## numerical variable (ตัวแปรตัวเลข)\n",
        "\n"
      ]
    },
    {
      "cell_type": "code",
      "metadata": {
        "id": "54lYRlPUl3EA",
        "colab_type": "code",
        "colab": {
          "base_uri": "https://localhost:8080/",
          "height": 34
        },
        "outputId": "fea03bf4-67c7-4e9c-bb4e-5600c82b0e6b"
      },
      "source": [
        "a = 1 # ลังแปะป้ายชื่อ a ใส่ข้อมูลเป็นตัวเลข 1\n",
        "b = 2 # ลังแปะป้ายชื่อ b ใส่ข้อมูลเป็นตัวเลข 2\n",
        "c = a + b # ลังแปะป้ายชื่อ c ใส่ข้อมูลเป็นผลลัพธ์การจากการบวกกันของลัง a และลัง b ณ เวลาที่เอามาใส่\n",
        "c"
      ],
      "execution_count": 3,
      "outputs": [
        {
          "output_type": "execute_result",
          "data": {
            "text/plain": [
              "3"
            ]
          },
          "metadata": {
            "tags": []
          },
          "execution_count": 3
        }
      ]
    },
    {
      "cell_type": "markdown",
      "metadata": {
        "id": "PU3W7f2VnvYV",
        "colab_type": "text"
      },
      "source": [
        "ทุกครั้งที่เห็นเครื่องหมาย = คือการนำค่าจากทางขวามือ มาใส่ลังที่มีชื่อทางซ้ายมือเสมอ"
      ]
    },
    {
      "cell_type": "markdown",
      "metadata": {
        "id": "_SkLpNdDZA-H",
        "colab_type": "text"
      },
      "source": [
        "## string variable (ตัวแปรตัวอักษร)\n"
      ]
    },
    {
      "cell_type": "markdown",
      "metadata": {
        "id": "tDJA_DbSs5io",
        "colab_type": "text"
      },
      "source": [
        "สิ่งที่อยู่ใน `' '` หรือ `\" \" `จะนับเป็นตัวอักษรทั้งหมดแม้ว่าจะเป็นตัวเลขหรือเครื่องหมายก็ตาม\n",
        "\n",
        "การใช้ `\"` หรือ `'` ก็นับเป็น string เหมือนกัน ตัวภาษา python อนุญาตให้เราใช้ทั้งสองแบบ เผื่อในกรณีดังนี้\n",
        "\n",
        "1.   `text = \"I'm fine. Thank you.\"`\n",
        "2.   `text = 'This is an \"important\" part.'`\n",
        "\n"
      ]
    },
    {
      "cell_type": "code",
      "metadata": {
        "id": "jHmubc0MmcF7",
        "colab_type": "code",
        "colab": {
          "base_uri": "https://localhost:8080/",
          "height": 35
        },
        "outputId": "6ac44476-0204-406b-884d-0b6a9f5e0132"
      },
      "source": [
        "a = 'hi, '\n",
        "b = 'how are you?'\n",
        "c = a + b # การ + ของ string คือการนำมาต่อกัน\n",
        "c"
      ],
      "execution_count": 4,
      "outputs": [
        {
          "output_type": "execute_result",
          "data": {
            "application/vnd.google.colaboratory.intrinsic+json": {
              "type": "string"
            },
            "text/plain": [
              "'hi, how are you?'"
            ]
          },
          "metadata": {
            "tags": []
          },
          "execution_count": 4
        }
      ]
    },
    {
      "cell_type": "code",
      "metadata": {
        "id": "DiIxrLdKmu0y",
        "colab_type": "code",
        "colab": {
          "base_uri": "https://localhost:8080/",
          "height": 35
        },
        "outputId": "4f4eedda-f857-42f4-90ad-d5241c39f000"
      },
      "source": [
        "name = 'Winn'\n",
        "money = '10 USD'\n",
        "sentence = name + ' has ' + money + '.'\n",
        "sentence"
      ],
      "execution_count": 5,
      "outputs": [
        {
          "output_type": "execute_result",
          "data": {
            "application/vnd.google.colaboratory.intrinsic+json": {
              "type": "string"
            },
            "text/plain": [
              "'Winn has 10 USD.'"
            ]
          },
          "metadata": {
            "tags": []
          },
          "execution_count": 5
        }
      ]
    },
    {
      "cell_type": "markdown",
      "metadata": {
        "id": "_Pr5kQl1r66V",
        "colab_type": "text"
      },
      "source": [
        "\n",
        "\n",
        "---\n",
        "\n"
      ]
    },
    {
      "cell_type": "markdown",
      "metadata": {
        "id": "l5fGaL8snC_-",
        "colab_type": "text"
      },
      "source": [
        "# Data types (ประเภทตัวแปร)"
      ]
    },
    {
      "cell_type": "markdown",
      "metadata": {
        "id": "V7_Oc4phnPZM",
        "colab_type": "text"
      },
      "source": [
        "## Number"
      ]
    },
    {
      "cell_type": "code",
      "metadata": {
        "id": "VfpYi40cnJgR",
        "colab_type": "code",
        "colab": {
          "base_uri": "https://localhost:8080/",
          "height": 51
        },
        "outputId": "3a523c41-125e-4112-f59f-a01d4fbac1ce"
      },
      "source": [
        "a = 4 # integer จำนวนเต็ม\n",
        "b = 2.0 # float จำนวนทศนิยม \n",
        "print(a) \n",
        "print(b)"
      ],
      "execution_count": 6,
      "outputs": [
        {
          "output_type": "stream",
          "text": [
            "4\n",
            "2.0\n"
          ],
          "name": "stdout"
        }
      ]
    },
    {
      "cell_type": "markdown",
      "metadata": {
        "id": "WCO6cwWdn6Hm",
        "colab_type": "text"
      },
      "source": [
        "float ในภาษาอื่นอาจแบ่งเป็น single และ double เพื่อระบุพื้นที่ใน RAM ในการเก็บข้อมูล แต่ใน python จะใช้ double เสมอ ยกเว้นจะใช้ฟังก์ชันพิเศษจาก library numpy `numpy.float32`\n"
      ]
    },
    {
      "cell_type": "markdown",
      "metadata": {
        "id": "1D3jrr9qn6Em",
        "colab_type": "text"
      },
      "source": [
        "### Number operations"
      ]
    },
    {
      "cell_type": "code",
      "metadata": {
        "id": "BrGSbnArn9TB",
        "colab_type": "code",
        "colab": {
          "base_uri": "https://localhost:8080/",
          "height": 102
        },
        "outputId": "baf2c02f-4fde-4b29-f3eb-76475408bfc4"
      },
      "source": [
        "print(a+b)\n",
        "print(a*b)\n",
        "print(a/b)\n",
        "print(a**b)\n",
        "print(a**(1/b)) "
      ],
      "execution_count": 7,
      "outputs": [
        {
          "output_type": "stream",
          "text": [
            "6.0\n",
            "8.0\n",
            "2.0\n",
            "16.0\n",
            "2.0\n"
          ],
          "name": "stdout"
        }
      ]
    },
    {
      "cell_type": "markdown",
      "metadata": {
        "id": "Mx9xisEOqUNI",
        "colab_type": "text"
      },
      "source": [
        "**ระวัง** กรณีที่ใช้ python version 2 การหาร int กับ int จะได้ผลเป็น int"
      ]
    },
    {
      "cell_type": "code",
      "metadata": {
        "id": "-73ES_Z1qel_",
        "colab_type": "code",
        "colab": {
          "base_uri": "https://localhost:8080/",
          "height": 34
        },
        "outputId": "b3c0f19b-b786-463e-db61-00280c0e4af1"
      },
      "source": [
        "d = 5\n",
        "g = 2\n",
        "d/g # ได้ผลลัพธ์เป็น 2.5 แต่ python version 2 ได้เป็น 2"
      ],
      "execution_count": 8,
      "outputs": [
        {
          "output_type": "execute_result",
          "data": {
            "text/plain": [
              "2.5"
            ]
          },
          "metadata": {
            "tags": []
          },
          "execution_count": 8
        }
      ]
    },
    {
      "cell_type": "code",
      "metadata": {
        "id": "3dyvh6DZv2iM",
        "colab_type": "code",
        "colab": {
          "base_uri": "https://localhost:8080/",
          "height": 34
        },
        "outputId": "e4329609-89fd-48fd-bf07-7b4371385747"
      },
      "source": [
        "d%g # หารเอาเศษ"
      ],
      "execution_count": 9,
      "outputs": [
        {
          "output_type": "execute_result",
          "data": {
            "text/plain": [
              "1"
            ]
          },
          "metadata": {
            "tags": []
          },
          "execution_count": 9
        }
      ]
    },
    {
      "cell_type": "markdown",
      "metadata": {
        "id": "CvM8Am7Zn0eQ",
        "colab_type": "text"
      },
      "source": [
        "## String"
      ]
    },
    {
      "cell_type": "markdown",
      "metadata": {
        "id": "OmbVVjq2piJG",
        "colab_type": "text"
      },
      "source": [
        "### String operations"
      ]
    },
    {
      "cell_type": "code",
      "metadata": {
        "id": "hTrB98buovNG",
        "colab_type": "code",
        "colab": {
          "base_uri": "https://localhost:8080/",
          "height": 34
        },
        "outputId": "60bfd8a8-ad4b-4a8b-b9fc-f9ee10d5f7ba"
      },
      "source": [
        "print(name + ' has ' + money) # ใช้การ + เพื่อนำ string มาต่อกัน (concatenate)"
      ],
      "execution_count": 10,
      "outputs": [
        {
          "output_type": "stream",
          "text": [
            "Winn has 10 USD\n"
          ],
          "name": "stdout"
        }
      ]
    },
    {
      "cell_type": "code",
      "metadata": {
        "id": "9tCvZfwdo9Yu",
        "colab_type": "code",
        "colab": {
          "base_uri": "https://localhost:8080/",
          "height": 164
        },
        "outputId": "29c7b6ef-e5fa-43cf-cc12-c7161c2603dd"
      },
      "source": [
        "print(name + a) # ตัวแปรคนละประเภทไม่สามารถนำมา + กันได้ "
      ],
      "execution_count": 11,
      "outputs": [
        {
          "output_type": "error",
          "ename": "TypeError",
          "evalue": "ignored",
          "traceback": [
            "\u001b[0;31m---------------------------------------------------------------------------\u001b[0m",
            "\u001b[0;31mTypeError\u001b[0m                                 Traceback (most recent call last)",
            "\u001b[0;32m<ipython-input-11-7ff025dd0cce>\u001b[0m in \u001b[0;36m<module>\u001b[0;34m()\u001b[0m\n\u001b[0;32m----> 1\u001b[0;31m \u001b[0mprint\u001b[0m\u001b[0;34m(\u001b[0m\u001b[0mname\u001b[0m \u001b[0;34m+\u001b[0m \u001b[0ma\u001b[0m\u001b[0;34m)\u001b[0m \u001b[0;31m# ตัวแปรคนละประเภทไม่สามารถนำมา + กันได้\u001b[0m\u001b[0;34m\u001b[0m\u001b[0;34m\u001b[0m\u001b[0m\n\u001b[0m",
            "\u001b[0;31mTypeError\u001b[0m: must be str, not int"
          ]
        }
      ]
    },
    {
      "cell_type": "code",
      "metadata": {
        "id": "kWnabujWpFeN",
        "colab_type": "code",
        "colab": {
          "base_uri": "https://localhost:8080/",
          "height": 34
        },
        "outputId": "3c905a94-b040-411f-b87c-137ebff69daa"
      },
      "source": [
        "print(name * a) # ตัวแปร string สามารถทำซ้ำได้โดยการ * กับจำนวนครั้งที่ต้องการทำซ้ำ"
      ],
      "execution_count": 12,
      "outputs": [
        {
          "output_type": "stream",
          "text": [
            "WinnWinnWinnWinn\n"
          ],
          "name": "stdout"
        }
      ]
    },
    {
      "cell_type": "code",
      "metadata": {
        "id": "WRpFPXpph5PA",
        "colab_type": "code",
        "colab": {
          "base_uri": "https://localhost:8080/",
          "height": 51
        },
        "outputId": "6c52f2c5-a208-4949-ccc8-2c1df100fe40"
      },
      "source": [
        "print('I want you.\\nI need you.\\tI love you.') # ตัวอักษรพิเศษ \\n แทนการขึ้นบรรทัดใหม่ \\t แทนการ tab"
      ],
      "execution_count": 13,
      "outputs": [
        {
          "output_type": "stream",
          "text": [
            "I want you.\n",
            "I need you.\tI love you.\n"
          ],
          "name": "stdout"
        }
      ]
    },
    {
      "cell_type": "markdown",
      "metadata": {
        "id": "05BvrS3WDpo3",
        "colab_type": "text"
      },
      "source": [
        "## data type transformation"
      ]
    },
    {
      "cell_type": "markdown",
      "metadata": {
        "id": "k7KW6JeMD0lj",
        "colab_type": "text"
      },
      "source": [
        "ใช้คำสั่ง `str(ตัวแปร)`, `int(ตัวแปร)`, `float(ตัวแปร)` เพื่อเปลี่ยนประเภทตัวแปรเป็น string, integer และ float ตามลำดับ"
      ]
    },
    {
      "cell_type": "code",
      "metadata": {
        "id": "7CMczwxsDwrQ",
        "colab_type": "code",
        "colab": {
          "base_uri": "https://localhost:8080/",
          "height": 85
        },
        "outputId": "2359beda-33f1-4718-feb0-2e3a28e23458"
      },
      "source": [
        "print(a)\n",
        "print(type(a))\n",
        "print(str(a)) # a = '4'\n",
        "print(type(str(a)))"
      ],
      "execution_count": 14,
      "outputs": [
        {
          "output_type": "stream",
          "text": [
            "4\n",
            "<class 'int'>\n",
            "4\n",
            "<class 'str'>\n"
          ],
          "name": "stdout"
        }
      ]
    },
    {
      "cell_type": "code",
      "metadata": {
        "id": "zJW5YLloFA7b",
        "colab_type": "code",
        "colab": {
          "base_uri": "https://localhost:8080/",
          "height": 68
        },
        "outputId": "734984c3-ee0d-4f09-f540-cf1e20fc37df"
      },
      "source": [
        "p = 3.141592\n",
        "print(p + 5.26) # float + float\n",
        "print(str(p) + str(5.26)) # str + str\n",
        "print(int(p))"
      ],
      "execution_count": 15,
      "outputs": [
        {
          "output_type": "stream",
          "text": [
            "8.401592\n",
            "3.1415925.26\n",
            "3\n"
          ],
          "name": "stdout"
        }
      ]
    },
    {
      "cell_type": "markdown",
      "metadata": {
        "id": "1P7N2wp3HG_o",
        "colab_type": "text"
      },
      "source": [
        "## printing string-number combination\n",
        "\n",
        "มี 4 วิธี ดังนี้"
      ]
    },
    {
      "cell_type": "markdown",
      "metadata": {
        "id": "yLXeuPhnHQnx",
        "colab_type": "text"
      },
      "source": [
        "### 1) `,`\n",
        "\n"
      ]
    },
    {
      "cell_type": "code",
      "metadata": {
        "id": "ZajEiQLDHNvs",
        "colab_type": "code",
        "colab": {
          "base_uri": "https://localhost:8080/",
          "height": 51
        },
        "outputId": "95a18362-5132-4634-d55c-ecd0ec2496e0"
      },
      "source": [
        "print('There are',a,'cats in this room.')\n",
        "# ให้ผลเหมือนกันกับ\n",
        "print('There are '+str(a)+' cats in this room.')"
      ],
      "execution_count": 16,
      "outputs": [
        {
          "output_type": "stream",
          "text": [
            "There are 4 cats in this room.\n",
            "There are 4 cats in this room.\n"
          ],
          "name": "stdout"
        }
      ]
    },
    {
      "cell_type": "markdown",
      "metadata": {
        "id": "HkSSUIQmJJh2",
        "colab_type": "text"
      },
      "source": [
        "### 2) `%`\n",
        "\n",
        "วิธีนี้เริ่มหมดความนิยมแล้ว รู้ไว้เผื่อ google ไปเจอคำอธิบายเก่า ๆ\n",
        "\n",
        "\n"
      ]
    },
    {
      "cell_type": "code",
      "metadata": {
        "id": "o_Zxc_SzJI3q",
        "colab_type": "code",
        "colab": {
          "base_uri": "https://localhost:8080/",
          "height": 68
        },
        "outputId": "0937b970-cf2f-49e5-88d9-2ee65fc2f32d"
      },
      "source": [
        "print(\"Approximated Pi value is %f\" % p)\n",
        "print(\"Approximated Pi value is %.4f\" % p)\n",
        "print(\"My name is %s. I've been here for %i years\" % (name, a))"
      ],
      "execution_count": 17,
      "outputs": [
        {
          "output_type": "stream",
          "text": [
            "Approximated Pi value is 3.141592\n",
            "Approximated Pi value is 3.1416\n",
            "My name is Winn. I've been here for 4 years\n"
          ],
          "name": "stdout"
        }
      ]
    },
    {
      "cell_type": "markdown",
      "metadata": {
        "id": "Wf79klXxJQjS",
        "colab_type": "text"
      },
      "source": [
        "### 3) .format()\n",
        "\n",
        "ค่อนข้างเป็นที่นิยม ก่อนจะมี f-string ใช้\n"
      ]
    },
    {
      "cell_type": "code",
      "metadata": {
        "id": "oCb_-ECDJTOQ",
        "colab_type": "code",
        "colab": {
          "base_uri": "https://localhost:8080/",
          "height": 102
        },
        "outputId": "82a051f3-8b3f-4b43-b517-813b9ed59058"
      },
      "source": [
        "print(\"Approximated Pi value is {}\".format(p))\n",
        "print(\"Approximated Pi value is {:.4f}\".format(p))\n",
        "print(\"My name is {}. I've been here for {} years\".format(name, a))\n",
        "print(\"My name is {n}. I've been here for {time:.5f} years\".format(n=name, time=float(a)))\n",
        "\n",
        "print(\"My name is {1}. I've been here for {0} years\".format(a, name))"
      ],
      "execution_count": 18,
      "outputs": [
        {
          "output_type": "stream",
          "text": [
            "Approximated Pi value is 3.141592\n",
            "Approximated Pi value is 3.1416\n",
            "My name is Winn. I've been here for 4 years\n",
            "My name is Winn. I've been here for 4.00000 years\n",
            "My name is Winn. I've been here for 4 years\n"
          ],
          "name": "stdout"
        }
      ]
    },
    {
      "cell_type": "markdown",
      "metadata": {
        "id": "94LpiwuQJTgG",
        "colab_type": "text"
      },
      "source": [
        "### 4) f-string (ใช้ได้ตั้งแต่ python 3.6 เป็นต้นไป)"
      ]
    },
    {
      "cell_type": "code",
      "metadata": {
        "id": "6AvRJzyZOCjV",
        "colab_type": "code",
        "colab": {
          "base_uri": "https://localhost:8080/",
          "height": 85
        },
        "outputId": "ce5c4209-8219-4ebd-d70d-807c8869044f"
      },
      "source": [
        "print(f\"Approximated Pi value is {p}\")\n",
        "print(f\"Approximated Pi value is {p:.4f}\")\n",
        "print(f\"My name is {name}. I've been here for {a} years\")\n",
        "print(f\"My name is {name}. I've been here for {a:.5f} years\") # a ไม่ต้องแปลงเป็น float ก่อนก็ได้"
      ],
      "execution_count": 19,
      "outputs": [
        {
          "output_type": "stream",
          "text": [
            "Approximated Pi value is 3.141592\n",
            "Approximated Pi value is 3.1416\n",
            "My name is Winn. I've been here for 4 years\n",
            "My name is Winn. I've been here for 4.00000 years\n"
          ],
          "name": "stdout"
        }
      ]
    },
    {
      "cell_type": "code",
      "metadata": {
        "id": "WhXbmU4e1SAo",
        "colab_type": "code",
        "colab": {
          "base_uri": "https://localhost:8080/",
          "height": 85
        },
        "outputId": "e1eed240-eb14-4a93-8d91-57d8793502ff"
      },
      "source": [
        "n1 = '5'\n",
        "n2 = '2.445'\n",
        "n3 = '3.44s'\n",
        "\n",
        "print(int(n1))\n",
        "print(float(n1))\n",
        "\n",
        "print(int(float(n2)))\n",
        "print(float(n2))\n",
        "\n"
      ],
      "execution_count": 20,
      "outputs": [
        {
          "output_type": "stream",
          "text": [
            "5\n",
            "5.0\n",
            "2\n",
            "2.445\n"
          ],
          "name": "stdout"
        }
      ]
    },
    {
      "cell_type": "markdown",
      "metadata": {
        "id": "3clC3wR6pqIM",
        "colab_type": "text"
      },
      "source": [
        "## Access character & substrings"
      ]
    },
    {
      "cell_type": "markdown",
      "metadata": {
        "id": "9Iolgl1yu1Xg",
        "colab_type": "text"
      },
      "source": [
        "ตัวแปร string ที่จริงแล้วคือการนำลังใส่ข้อมูลตัวอักษรมาผูกเรียงต่อกัน"
      ]
    },
    {
      "cell_type": "code",
      "metadata": {
        "id": "3ei6O8vnpvTA",
        "colab_type": "code",
        "colab": {
          "base_uri": "https://localhost:8080/",
          "height": 102
        },
        "outputId": "5898916a-de6f-4836-fa09-633fa659e969"
      },
      "source": [
        "print(name)\n",
        "print(name[0])\n",
        "print(name[1])\n",
        "print(name[2])\n",
        "print(name[3])"
      ],
      "execution_count": 21,
      "outputs": [
        {
          "output_type": "stream",
          "text": [
            "Winn\n",
            "W\n",
            "i\n",
            "n\n",
            "n\n"
          ],
          "name": "stdout"
        }
      ]
    },
    {
      "cell_type": "code",
      "metadata": {
        "id": "s4OR_iDVKz_y",
        "colab_type": "code",
        "colab": {
          "base_uri": "https://localhost:8080/",
          "height": 102
        },
        "outputId": "94bb71cd-e19f-4577-d888-6ed525d1f79b"
      },
      "source": [
        "mystr = ' Welcome to Botnoi class room'\n",
        "print(mystr[0:5]) # เลือกตั้งแต่ตัวที่ 0 ถึงตัวที่ 4\n",
        "print(mystr[1:8]) # เลือกตั้งแต่ตัวที่ 1 ถึงตัวที่ 7\n",
        "print(mystr[-4:]) # เลือกตั้งแต่ตัวที่ 4 นับจากสุดท้าย ไปจนจบ\n",
        "print(mystr[-6:-1]) # เลือกตั้งแต่ตัวที่ 6 นับจากสุดท้าย ถึงตัวที่ 2 นับจากสุดท้าย\n",
        "print(mystr[:5])  # เลือกตั้งแต่ตัวแรก ถึงตัวที่ 4"
      ],
      "execution_count": 22,
      "outputs": [
        {
          "output_type": "stream",
          "text": [
            " Welc\n",
            "Welcome\n",
            "room\n",
            "s roo\n",
            " Welc\n"
          ],
          "name": "stdout"
        }
      ]
    },
    {
      "cell_type": "code",
      "metadata": {
        "id": "uLL5GPVKvwAt",
        "colab_type": "code",
        "colab": {
          "base_uri": "https://localhost:8080/",
          "height": 68
        },
        "outputId": "bfb8c8f5-3231-42be-91cd-19089dbc0ef1"
      },
      "source": [
        "# [start: end: step] ตำแหน่งของ start ต้องอยู่ท้ายซ้ายของ end เสมอ\n",
        "print(mystr[:8:2]) # เลือกตั้งแต่ตัวแรก ถึงตัวที่ 7 ขยับทีละ 2\n",
        "print(mystr[::-1]) # เลือกทุกตัว ขยับทีละ -1\n",
        "print(mystr[3::3]) # เลือกตั้งแต่ตัวที่ 3 ไปจนจบ ขยับทีละ 3\n"
      ],
      "execution_count": 23,
      "outputs": [
        {
          "output_type": "stream",
          "text": [
            " ecm\n",
            "moor ssalc iontoB ot emocleW \n",
            "lmtBn a o\n"
          ],
          "name": "stdout"
        }
      ]
    },
    {
      "cell_type": "code",
      "metadata": {
        "id": "xlu5epygLK7-",
        "colab_type": "code",
        "colab": {
          "base_uri": "https://localhost:8080/",
          "height": 34
        },
        "outputId": "ab35361f-68fc-42a0-8ccf-e826323a0333"
      },
      "source": [
        "mystr.split() # แยกข้อความออกจากกันด้วยสิ่งที่อยู่ในวงเล็บของ split หากไม่ใส่จะใช้เว้นวรรค"
      ],
      "execution_count": 24,
      "outputs": [
        {
          "output_type": "execute_result",
          "data": {
            "text/plain": [
              "['Welcome', 'to', 'Botnoi', 'class', 'room']"
            ]
          },
          "metadata": {
            "tags": []
          },
          "execution_count": 24
        }
      ]
    },
    {
      "cell_type": "code",
      "metadata": {
        "id": "gDRE-Y6zLVDJ",
        "colab_type": "code",
        "colab": {
          "base_uri": "https://localhost:8080/",
          "height": 34
        },
        "outputId": "6c010664-7812-40b4-c489-ff70f51c3f5a"
      },
      "source": [
        "mystr.split('to') # หากใส่ จะหาตัวที่ตรงกันแล้วใช้เป็นตัวแยกข้อความ"
      ],
      "execution_count": 25,
      "outputs": [
        {
          "output_type": "execute_result",
          "data": {
            "text/plain": [
              "[' Welcome ', ' Botnoi class room']"
            ]
          },
          "metadata": {
            "tags": []
          },
          "execution_count": 25
        }
      ]
    },
    {
      "cell_type": "code",
      "metadata": {
        "id": "OW5pcS1RLRun",
        "colab_type": "code",
        "colab": {
          "base_uri": "https://localhost:8080/",
          "height": 35
        },
        "outputId": "14f59c67-53aa-499f-8012-bc2461ac94c7"
      },
      "source": [
        "mystr.lower() # ทำให้เป็นตัวเล็ก"
      ],
      "execution_count": 26,
      "outputs": [
        {
          "output_type": "execute_result",
          "data": {
            "application/vnd.google.colaboratory.intrinsic+json": {
              "type": "string"
            },
            "text/plain": [
              "' welcome to botnoi class room'"
            ]
          },
          "metadata": {
            "tags": []
          },
          "execution_count": 26
        }
      ]
    },
    {
      "cell_type": "code",
      "metadata": {
        "id": "7BqGnJXyLiH3",
        "colab_type": "code",
        "colab": {
          "base_uri": "https://localhost:8080/",
          "height": 35
        },
        "outputId": "06ec844a-ffd5-461b-930c-9fd3706f9b26"
      },
      "source": [
        "mystr.strip() # ตัดเว้นวรรคหน้า-หลัง"
      ],
      "execution_count": 27,
      "outputs": [
        {
          "output_type": "execute_result",
          "data": {
            "application/vnd.google.colaboratory.intrinsic+json": {
              "type": "string"
            },
            "text/plain": [
              "'Welcome to Botnoi class room'"
            ]
          },
          "metadata": {
            "tags": []
          },
          "execution_count": 27
        }
      ]
    },
    {
      "cell_type": "markdown",
      "metadata": {
        "id": "kZRXcke3qAQN",
        "colab_type": "text"
      },
      "source": [
        "## List\n",
        "\n",
        "ลังใหญ่ สำหรับใส่ลังตัวแปรอื่น ๆ"
      ]
    },
    {
      "cell_type": "code",
      "metadata": {
        "id": "Hwann7xZqU_k",
        "colab_type": "code",
        "colab": {
          "base_uri": "https://localhost:8080/",
          "height": 34
        },
        "outputId": "957ec699-0428-4d7a-881d-ac3c282b461f"
      },
      "source": [
        "[] # list เปล่า"
      ],
      "execution_count": 28,
      "outputs": [
        {
          "output_type": "execute_result",
          "data": {
            "text/plain": [
              "[]"
            ]
          },
          "metadata": {
            "tags": []
          },
          "execution_count": 28
        }
      ]
    },
    {
      "cell_type": "code",
      "metadata": {
        "id": "RAZLQAU-qaIq",
        "colab_type": "code",
        "colab": {
          "base_uri": "https://localhost:8080/",
          "height": 34
        },
        "outputId": "542265a9-2ad6-4f38-b152-5975ef661b34"
      },
      "source": [
        "[1,2,3,4] # list ใส่ตัวเลข มีการคั่นด้วย ,"
      ],
      "execution_count": 29,
      "outputs": [
        {
          "output_type": "execute_result",
          "data": {
            "text/plain": [
              "[1, 2, 3, 4]"
            ]
          },
          "metadata": {
            "tags": []
          },
          "execution_count": 29
        }
      ]
    },
    {
      "cell_type": "code",
      "metadata": {
        "id": "xtPVGVD9qicC",
        "colab_type": "code",
        "colab": {
          "base_uri": "https://localhost:8080/",
          "height": 34
        },
        "outputId": "db8ce689-b6fc-4f7c-b301-dbbf15d933b4"
      },
      "source": [
        "a = 4\n",
        "b = 2.0\n",
        "name = 'winn'\n",
        "[a,b,name] # list ใส่ตัวแปรที่มีทั้งตัวเลขและตัวอักษร"
      ],
      "execution_count": 30,
      "outputs": [
        {
          "output_type": "execute_result",
          "data": {
            "text/plain": [
              "[4, 2.0, 'winn']"
            ]
          },
          "metadata": {
            "tags": []
          },
          "execution_count": 30
        }
      ]
    },
    {
      "cell_type": "code",
      "metadata": {
        "id": "V5DDN1ZNgNpI",
        "colab_type": "code",
        "colab": {
          "base_uri": "https://localhost:8080/",
          "height": 34
        },
        "outputId": "59116413-2b47-4287-91ee-1988446235e8"
      },
      "source": [
        "len([a,b,name]) # len(list) เพื่อดูว่ามีข้อมูลข้างใน list กี่ตัว"
      ],
      "execution_count": 31,
      "outputs": [
        {
          "output_type": "execute_result",
          "data": {
            "text/plain": [
              "3"
            ]
          },
          "metadata": {
            "tags": []
          },
          "execution_count": 31
        }
      ]
    },
    {
      "cell_type": "markdown",
      "metadata": {
        "id": "jC1vgCBeqq78",
        "colab_type": "text"
      },
      "source": [
        "### การเข้าถึง list"
      ]
    },
    {
      "cell_type": "code",
      "metadata": {
        "id": "kNtjzWYrqmhN",
        "colab_type": "code",
        "colab": {
          "base_uri": "https://localhost:8080/",
          "height": 85
        },
        "outputId": "6344506a-0bad-4c55-9fe8-1dbde4016620"
      },
      "source": [
        "mylist = [1,a,b,name]\n",
        "print(mylist[0]) # เลือกสิ่งที่อยู่ใน list ได้ด้วย [] ต่อท้าย\n",
        "print(mylist[1])\n",
        "print(mylist[2])\n",
        "print(mylist[3])"
      ],
      "execution_count": 32,
      "outputs": [
        {
          "output_type": "stream",
          "text": [
            "1\n",
            "4\n",
            "2.0\n",
            "winn\n"
          ],
          "name": "stdout"
        }
      ]
    },
    {
      "cell_type": "markdown",
      "metadata": {
        "id": "0trzeE3fzTJ7",
        "colab_type": "text"
      },
      "source": [
        "### **ข้อควรระวัง** หลีกเลี่ยงการใช้ `=` กับ list\n"
      ]
    },
    {
      "cell_type": "code",
      "metadata": {
        "id": "3sCWZlPb4oYc",
        "colab_type": "code",
        "colab": {
          "base_uri": "https://localhost:8080/",
          "height": 34
        },
        "outputId": "9b1826c2-4d13-459e-be11-eed7a3c75531"
      },
      "source": [
        "list2 = mylist # list2 มีค่าเท่ากับ mylist\n",
        "# list2[0] = list2[0] + 1\n",
        "list2[0] += 1 # เปลี่ยนค่าใน list2\n",
        "list2"
      ],
      "execution_count": 33,
      "outputs": [
        {
          "output_type": "execute_result",
          "data": {
            "text/plain": [
              "[2, 4, 2.0, 'winn']"
            ]
          },
          "metadata": {
            "tags": []
          },
          "execution_count": 33
        }
      ]
    },
    {
      "cell_type": "code",
      "metadata": {
        "id": "kTEk4c7P4yhb",
        "colab_type": "code",
        "colab": {
          "base_uri": "https://localhost:8080/",
          "height": 34
        },
        "outputId": "5af699b1-bae3-4bd0-a520-876ccd2e1787"
      },
      "source": [
        "mylist # ค่าใน mylist ก็เปลี่ยนด้วย"
      ],
      "execution_count": 34,
      "outputs": [
        {
          "output_type": "execute_result",
          "data": {
            "text/plain": [
              "[2, 4, 2.0, 'winn']"
            ]
          },
          "metadata": {
            "tags": []
          },
          "execution_count": 34
        }
      ]
    },
    {
      "cell_type": "code",
      "metadata": {
        "id": "b_YMfJsDztco",
        "colab_type": "code",
        "colab": {
          "base_uri": "https://localhost:8080/",
          "height": 34
        },
        "outputId": "67f509b9-e216-4ecd-b105-800e77c09061"
      },
      "source": [
        "# ใช้คำสั่ง .copy()\n",
        "list3 = mylist.copy()\n",
        "list3"
      ],
      "execution_count": 35,
      "outputs": [
        {
          "output_type": "execute_result",
          "data": {
            "text/plain": [
              "[2, 4, 2.0, 'winn']"
            ]
          },
          "metadata": {
            "tags": []
          },
          "execution_count": 35
        }
      ]
    },
    {
      "cell_type": "code",
      "metadata": {
        "id": "w7Bb12MJz6sV",
        "colab_type": "code",
        "colab": {
          "base_uri": "https://localhost:8080/",
          "height": 34
        },
        "outputId": "616334a2-43ec-4cd9-d786-a794c56a5c9b"
      },
      "source": [
        "list3[0] += 1 # เปลี่ยนค่าใน list3\n",
        "list3"
      ],
      "execution_count": 36,
      "outputs": [
        {
          "output_type": "execute_result",
          "data": {
            "text/plain": [
              "[3, 4, 2.0, 'winn']"
            ]
          },
          "metadata": {
            "tags": []
          },
          "execution_count": 36
        }
      ]
    },
    {
      "cell_type": "code",
      "metadata": {
        "id": "9yEguxXd0CYo",
        "colab_type": "code",
        "colab": {
          "base_uri": "https://localhost:8080/",
          "height": 34
        },
        "outputId": "01f18c86-e92f-4a58-9619-357fded5ba4e"
      },
      "source": [
        "mylist # ค่าใน mylist ไม่เปลี่ยนตามแล้ว"
      ],
      "execution_count": 37,
      "outputs": [
        {
          "output_type": "execute_result",
          "data": {
            "text/plain": [
              "[2, 4, 2.0, 'winn']"
            ]
          },
          "metadata": {
            "tags": []
          },
          "execution_count": 37
        }
      ]
    },
    {
      "cell_type": "markdown",
      "metadata": {
        "id": "QjWN46VZ0hcr",
        "colab_type": "text"
      },
      "source": [
        "### เพิ่มข้อมูลใน list"
      ]
    },
    {
      "cell_type": "code",
      "metadata": {
        "id": "6FKsL6oULrbl",
        "colab_type": "code",
        "colab": {
          "base_uri": "https://localhost:8080/",
          "height": 34
        },
        "outputId": "d3b77ea3-1792-481d-c387-dd3d1098f2b4"
      },
      "source": [
        "# ใช้ function append\n",
        "mylist.append('How are you?') # เพิ่มต่อท้าย\n",
        "mylist"
      ],
      "execution_count": 38,
      "outputs": [
        {
          "output_type": "execute_result",
          "data": {
            "text/plain": [
              "[2, 4, 2.0, 'winn', 'How are you?']"
            ]
          },
          "metadata": {
            "tags": []
          },
          "execution_count": 38
        }
      ]
    },
    {
      "cell_type": "code",
      "metadata": {
        "id": "wQ8noTZ40ti5",
        "colab_type": "code",
        "colab": {
          "base_uri": "https://localhost:8080/",
          "height": 34
        },
        "outputId": "479d5590-e531-4e17-d231-bed77b6b3601"
      },
      "source": [
        "# ใช้ function insert\n",
        "mylist.insert(2, 'Hi') # ระบุตำแหน่งที่ต้องการใส่ และสิ่งที่ต้องการใส่\n",
        "mylist"
      ],
      "execution_count": 39,
      "outputs": [
        {
          "output_type": "execute_result",
          "data": {
            "text/plain": [
              "[2, 4, 'Hi', 2.0, 'winn', 'How are you?']"
            ]
          },
          "metadata": {
            "tags": []
          },
          "execution_count": 39
        }
      ]
    },
    {
      "cell_type": "markdown",
      "metadata": {
        "id": "ixrCpaL02K9R",
        "colab_type": "text"
      },
      "source": [
        "### ลบข้อมูลใน list"
      ]
    },
    {
      "cell_type": "code",
      "metadata": {
        "id": "4Lp49wlh0tn5",
        "colab_type": "code",
        "colab": {
          "base_uri": "https://localhost:8080/",
          "height": 34
        },
        "outputId": "e2336f30-a19f-4c0a-dd58-aa6f078ae48f"
      },
      "source": [
        "mylist.remove('Hi')\n",
        "mylist"
      ],
      "execution_count": 40,
      "outputs": [
        {
          "output_type": "execute_result",
          "data": {
            "text/plain": [
              "[2, 4, 2.0, 'winn', 'How are you?']"
            ]
          },
          "metadata": {
            "tags": []
          },
          "execution_count": 40
        }
      ]
    },
    {
      "cell_type": "code",
      "metadata": {
        "id": "8VPXF8UR0tlz",
        "colab_type": "code",
        "colab": {
          "base_uri": "https://localhost:8080/",
          "height": 34
        },
        "outputId": "1f71bb4a-538d-4202-91a7-1c5f64ec3e5f"
      },
      "source": [
        "# หากมีข้อมูลซ้ำกันใน list คำสั่ง remove จะลบเฉพาะตัวแรกเท่านั้น\n",
        "mylist.append('winn')\n",
        "mylist"
      ],
      "execution_count": 41,
      "outputs": [
        {
          "output_type": "execute_result",
          "data": {
            "text/plain": [
              "[2, 4, 2.0, 'winn', 'How are you?', 'winn']"
            ]
          },
          "metadata": {
            "tags": []
          },
          "execution_count": 41
        }
      ]
    },
    {
      "cell_type": "code",
      "metadata": {
        "id": "sc47C1l90tWc",
        "colab_type": "code",
        "colab": {
          "base_uri": "https://localhost:8080/",
          "height": 34
        },
        "outputId": "e4e0201b-dbca-4968-8340-c0f5a5e1b80d"
      },
      "source": [
        "mylist.remove('winn')\n",
        "mylist"
      ],
      "execution_count": 42,
      "outputs": [
        {
          "output_type": "execute_result",
          "data": {
            "text/plain": [
              "[2, 4, 2.0, 'How are you?', 'winn']"
            ]
          },
          "metadata": {
            "tags": []
          },
          "execution_count": 42
        }
      ]
    },
    {
      "cell_type": "code",
      "metadata": {
        "id": "KTyBvf4OCgmU",
        "colab_type": "code",
        "colab": {
          "base_uri": "https://localhost:8080/",
          "height": 34
        },
        "outputId": "3cad690d-a306-48e5-c4f2-374f0688f99b"
      },
      "source": [
        "# ใช้คำสั่ง del จะลบโดยระบุตำแหน่งได้\n",
        "mylist.append(2)\n",
        "mylist"
      ],
      "execution_count": 43,
      "outputs": [
        {
          "output_type": "execute_result",
          "data": {
            "text/plain": [
              "[2, 4, 2.0, 'How are you?', 'winn', 2]"
            ]
          },
          "metadata": {
            "tags": []
          },
          "execution_count": 43
        }
      ]
    },
    {
      "cell_type": "code",
      "metadata": {
        "id": "lopKBLxyCgpV",
        "colab_type": "code",
        "colab": {
          "base_uri": "https://localhost:8080/",
          "height": 34
        },
        "outputId": "298573e1-16ac-427b-f402-ae720962379e"
      },
      "source": [
        "del mylist[-1]\n",
        "mylist"
      ],
      "execution_count": 44,
      "outputs": [
        {
          "output_type": "execute_result",
          "data": {
            "text/plain": [
              "[2, 4, 2.0, 'How are you?', 'winn']"
            ]
          },
          "metadata": {
            "tags": []
          },
          "execution_count": 44
        }
      ]
    },
    {
      "cell_type": "markdown",
      "metadata": {
        "id": "MMApyTMCMJas",
        "colab_type": "text"
      },
      "source": [
        "### การใช้ + กับ list"
      ]
    },
    {
      "cell_type": "code",
      "metadata": {
        "id": "fARkXn8TL-as",
        "colab_type": "code",
        "colab": {
          "base_uri": "https://localhost:8080/",
          "height": 34
        },
        "outputId": "db58c888-36b2-47c7-9be0-ab97deb7aeea"
      },
      "source": [
        "mylist + ['a','b','c'] # นำ list สองตัวมา + กัน จะเป็นการนำมาต่อกัน"
      ],
      "execution_count": 45,
      "outputs": [
        {
          "output_type": "execute_result",
          "data": {
            "text/plain": [
              "[2, 4, 2.0, 'How are you?', 'winn', 'a', 'b', 'c']"
            ]
          },
          "metadata": {
            "tags": []
          },
          "execution_count": 45
        }
      ]
    },
    {
      "cell_type": "markdown",
      "metadata": {
        "id": "A8NZ7bYprB-E",
        "colab_type": "text"
      },
      "source": [
        "## Dictionary\n",
        "ลังใหญ่เหมือน list แต่ใช้ key ในการเข้าถึง (แทนที่จะใช้ตัวเลขเหมือน list)"
      ]
    },
    {
      "cell_type": "code",
      "metadata": {
        "id": "4zCoYO6zrNHP",
        "colab_type": "code",
        "colab": {
          "base_uri": "https://localhost:8080/",
          "height": 34
        },
        "outputId": "8c6ccdf2-f9a3-410a-c4de-ed0bb9ca9fee"
      },
      "source": [
        "{} #empty dictionary"
      ],
      "execution_count": 46,
      "outputs": [
        {
          "output_type": "execute_result",
          "data": {
            "text/plain": [
              "{}"
            ]
          },
          "metadata": {
            "tags": []
          },
          "execution_count": 46
        }
      ]
    },
    {
      "cell_type": "code",
      "metadata": {
        "id": "NzhsmdgorRNj",
        "colab_type": "code",
        "colab": {
          "base_uri": "https://localhost:8080/",
          "height": 34
        },
        "outputId": "d1be31e5-c5d8-47c6-8cb6-8bced0e2f8fd"
      },
      "source": [
        "{'name':'Winn','nationality':'Thai', 'company':'Botnoi'} # a dictionary containing my information"
      ],
      "execution_count": 47,
      "outputs": [
        {
          "output_type": "execute_result",
          "data": {
            "text/plain": [
              "{'company': 'Botnoi', 'name': 'Winn', 'nationality': 'Thai'}"
            ]
          },
          "metadata": {
            "tags": []
          },
          "execution_count": 47
        }
      ]
    },
    {
      "cell_type": "markdown",
      "metadata": {
        "id": "vq15S6Cfria3",
        "colab_type": "text"
      },
      "source": [
        "### การใช้ key เข้าถึง dictionary"
      ]
    },
    {
      "cell_type": "code",
      "metadata": {
        "id": "P9MCvyVprq6d",
        "colab_type": "code",
        "colab": {
          "base_uri": "https://localhost:8080/",
          "height": 68
        },
        "outputId": "bf31fa6f-6ff6-4adb-b44a-5a868110adbe"
      },
      "source": [
        "mydic = {'name':'Winn','nationality':'Thai','company':'Botnoi'}\n",
        "print(mydic['name'])\n",
        "print(mydic['nationality'])\n",
        "print(mydic['company'])"
      ],
      "execution_count": 48,
      "outputs": [
        {
          "output_type": "stream",
          "text": [
            "Winn\n",
            "Thai\n",
            "Botnoi\n"
          ],
          "name": "stdout"
        }
      ]
    },
    {
      "cell_type": "markdown",
      "metadata": {
        "id": "plm4_iN8DPmy",
        "colab_type": "text"
      },
      "source": [
        "### ลบข้อมูลใน dictionary"
      ]
    },
    {
      "cell_type": "code",
      "metadata": {
        "id": "z5P5Fn3n8hGL",
        "colab_type": "code",
        "colab": {
          "base_uri": "https://localhost:8080/",
          "height": 34
        },
        "outputId": "0750e66b-4cc9-454c-a2a9-9e0ae53d8de9"
      },
      "source": [
        "del mydic['name']\n",
        "mydic"
      ],
      "execution_count": 49,
      "outputs": [
        {
          "output_type": "execute_result",
          "data": {
            "text/plain": [
              "{'company': 'Botnoi', 'nationality': 'Thai'}"
            ]
          },
          "metadata": {
            "tags": []
          },
          "execution_count": 49
        }
      ]
    },
    {
      "cell_type": "markdown",
      "metadata": {
        "id": "ZaRg4QXPDTx_",
        "colab_type": "text"
      },
      "source": [
        "### เพิ่มข้อมูลใน dictionary"
      ]
    },
    {
      "cell_type": "code",
      "metadata": {
        "id": "SmNuggbH8zS5",
        "colab_type": "code",
        "colab": {
          "base_uri": "https://localhost:8080/",
          "height": 34
        },
        "outputId": "36965e60-0d60-485c-89a3-a3490af6e4d5"
      },
      "source": [
        "mydic['height'] = 182\n",
        "mydic"
      ],
      "execution_count": 50,
      "outputs": [
        {
          "output_type": "execute_result",
          "data": {
            "text/plain": [
              "{'company': 'Botnoi', 'height': 182, 'nationality': 'Thai'}"
            ]
          },
          "metadata": {
            "tags": []
          },
          "execution_count": 50
        }
      ]
    },
    {
      "cell_type": "code",
      "metadata": {
        "id": "cXPHTcS-9Noa",
        "colab_type": "code",
        "colab": {
          "base_uri": "https://localhost:8080/",
          "height": 34
        },
        "outputId": "e0610adc-92be-4612-b62d-bbde2d68b91f"
      },
      "source": [
        "mydic['name'] = 'Winn'\n",
        "mydic"
      ],
      "execution_count": 51,
      "outputs": [
        {
          "output_type": "execute_result",
          "data": {
            "text/plain": [
              "{'company': 'Botnoi', 'height': 182, 'name': 'Winn', 'nationality': 'Thai'}"
            ]
          },
          "metadata": {
            "tags": []
          },
          "execution_count": 51
        }
      ]
    },
    {
      "cell_type": "markdown",
      "metadata": {
        "id": "7ZcCkACXDYt2",
        "colab_type": "text"
      },
      "source": [
        "### แก้ไขข้อมูลใน dictionary"
      ]
    },
    {
      "cell_type": "code",
      "metadata": {
        "id": "fB5HkLuw9eRW",
        "colab_type": "code",
        "colab": {
          "base_uri": "https://localhost:8080/",
          "height": 34
        },
        "outputId": "65c779c8-3fb4-4889-91c7-4032f6f12030"
      },
      "source": [
        "mydic['name'] = 'arm'\n",
        "mydic"
      ],
      "execution_count": 52,
      "outputs": [
        {
          "output_type": "execute_result",
          "data": {
            "text/plain": [
              "{'company': 'Botnoi', 'height': 182, 'name': 'arm', 'nationality': 'Thai'}"
            ]
          },
          "metadata": {
            "tags": []
          },
          "execution_count": 52
        }
      ]
    },
    {
      "cell_type": "code",
      "metadata": {
        "id": "6Ap4_Mz395Nf",
        "colab_type": "code",
        "colab": {
          "base_uri": "https://localhost:8080/",
          "height": 102
        },
        "outputId": "a6988ed0-8513-4b89-d098-5f07d91a0c8c"
      },
      "source": [
        "# เพิ่ม list ใน dictionary\n",
        "mydic['hobby'] = ['soccer', 'surf internet', 'badminton']\n",
        "mydic"
      ],
      "execution_count": 53,
      "outputs": [
        {
          "output_type": "execute_result",
          "data": {
            "text/plain": [
              "{'company': 'Botnoi',\n",
              " 'height': 182,\n",
              " 'hobby': ['soccer', 'surf internet', 'badminton'],\n",
              " 'name': 'arm',\n",
              " 'nationality': 'Thai'}"
            ]
          },
          "metadata": {
            "tags": []
          },
          "execution_count": 53
        }
      ]
    },
    {
      "cell_type": "code",
      "metadata": {
        "id": "W5l0zawI-zyN",
        "colab_type": "code",
        "colab": {
          "base_uri": "https://localhost:8080/",
          "height": 102
        },
        "outputId": "3fb76f7c-6dc8-498b-edc0-49611b69cc4c"
      },
      "source": [
        "# ลบบางค่าใน list ที่อยู่ใน dictionary\n",
        "del mydic['hobby'][1]\n",
        "mydic"
      ],
      "execution_count": 54,
      "outputs": [
        {
          "output_type": "execute_result",
          "data": {
            "text/plain": [
              "{'company': 'Botnoi',\n",
              " 'height': 182,\n",
              " 'hobby': ['soccer', 'badminton'],\n",
              " 'name': 'arm',\n",
              " 'nationality': 'Thai'}"
            ]
          },
          "metadata": {
            "tags": []
          },
          "execution_count": 54
        }
      ]
    },
    {
      "cell_type": "code",
      "metadata": {
        "id": "f3XqWicz_eyq",
        "colab_type": "code",
        "colab": {
          "base_uri": "https://localhost:8080/",
          "height": 119
        },
        "outputId": "876b097b-19cb-41b6-c4c4-ad76cdd1aad9"
      },
      "source": [
        "# เพิ่มค่า dict ใน dict\n",
        "mydic['song'] = {'title': 'ผ้าเช็ดหน้า', 'singer': 'triumph kingdom'}\n",
        "mydic"
      ],
      "execution_count": 55,
      "outputs": [
        {
          "output_type": "execute_result",
          "data": {
            "text/plain": [
              "{'company': 'Botnoi',\n",
              " 'height': 182,\n",
              " 'hobby': ['soccer', 'badminton'],\n",
              " 'name': 'arm',\n",
              " 'nationality': 'Thai',\n",
              " 'song': {'singer': 'triumph kingdom', 'title': 'ผ้าเช็ดหน้า'}}"
            ]
          },
          "metadata": {
            "tags": []
          },
          "execution_count": 55
        }
      ]
    },
    {
      "cell_type": "code",
      "metadata": {
        "id": "7RQe9N_9_3mA",
        "colab_type": "code",
        "colab": {
          "base_uri": "https://localhost:8080/",
          "height": 119
        },
        "outputId": "34cef9df-b5db-47b1-b7e9-eee6f02a79c9"
      },
      "source": [
        "# ลบบางค่าของ dict ใน dict\n",
        "del mydic['song']['title']\n",
        "mydic"
      ],
      "execution_count": 56,
      "outputs": [
        {
          "output_type": "execute_result",
          "data": {
            "text/plain": [
              "{'company': 'Botnoi',\n",
              " 'height': 182,\n",
              " 'hobby': ['soccer', 'badminton'],\n",
              " 'name': 'arm',\n",
              " 'nationality': 'Thai',\n",
              " 'song': {'singer': 'triumph kingdom'}}"
            ]
          },
          "metadata": {
            "tags": []
          },
          "execution_count": 56
        }
      ]
    },
    {
      "cell_type": "markdown",
      "metadata": {
        "id": "gUniTpnssEfu",
        "colab_type": "text"
      },
      "source": [
        "# Expression & Condition"
      ]
    },
    {
      "cell_type": "markdown",
      "metadata": {
        "id": "L7JtWn8ot8Ii",
        "colab_type": "text"
      },
      "source": [
        "## Expression"
      ]
    },
    {
      "cell_type": "code",
      "metadata": {
        "id": "AK6OsQ8yse4u",
        "colab_type": "code",
        "colab": {}
      },
      "source": [
        "a = 3 #assign 3 to a\n",
        "b = 5 #assign 5 to b\n",
        "c = [1,2,3]"
      ],
      "execution_count": 57,
      "outputs": []
    },
    {
      "cell_type": "code",
      "metadata": {
        "id": "pgm2E0ScsheF",
        "colab_type": "code",
        "colab": {
          "base_uri": "https://localhost:8080/",
          "height": 68
        },
        "outputId": "7d873ee2-5d60-47bb-fa1c-851d69466f51"
      },
      "source": [
        "print(a==b) # ใช้ == เพื่อเปรียบเทียบ, ใช้ = เพื่อกำหนดค่า\n",
        "print(a<b)\n",
        "print(a>b)"
      ],
      "execution_count": 58,
      "outputs": [
        {
          "output_type": "stream",
          "text": [
            "False\n",
            "True\n",
            "False\n"
          ],
          "name": "stdout"
        }
      ]
    },
    {
      "cell_type": "code",
      "metadata": {
        "id": "P0vuAmc_tny3",
        "colab_type": "code",
        "colab": {
          "base_uri": "https://localhost:8080/",
          "height": 85
        },
        "outputId": "314cfdbe-c6df-4aac-88f8-b25905e90d8a"
      },
      "source": [
        "nameList = ['winn','peter','john']\n",
        "name = 'winn'\n",
        "print(name in nameList) # ตรวจสอบว่าค่าของ name อยู่ใน nameList หรือเปล่า\n",
        "print(name not in nameList) # ตรวจสอบว่าค่าของ name ไม่ได้อยู่ใน nameList หรือเปล่า\n",
        "print('smith' in nameList) # ตรวจสอบว่าค่า 'smith' อยู่ใน nameList หรือเปล่า\n",
        "print(name[0]=='w')"
      ],
      "execution_count": 59,
      "outputs": [
        {
          "output_type": "stream",
          "text": [
            "True\n",
            "False\n",
            "False\n",
            "True\n"
          ],
          "name": "stdout"
        }
      ]
    },
    {
      "cell_type": "markdown",
      "metadata": {
        "id": "6JjnJNUus19q",
        "colab_type": "text"
      },
      "source": [
        "## Condition (if else)\n",
        "\n",
        "\n",
        "\n",
        "```\n",
        "if CONDITION: # อย่าลืม : ด้านหลัง\n",
        "    # เว้นวรรคด้านหน้า (indent) เพื่อให้รู้ขอบเขตของ if โดยจะเว้น 2 เคาะ (มาตรฐานเก่า) หรือ 4 เคาะ (มาตรฐานใหม่) ก็ได้ ปกติแล้วจะใช้การกด tab เอา\n",
        "    DO SOMETHING\n",
        "    DO MORE THINGS\n",
        "# ยกเลิกเว้นวรรคด้านหน้าเพื่อบอกว่าหมดช่วง if แล้ว\n",
        "DO OTHER THINGS\n",
        "```\n",
        "\n",
        "\n",
        "\n"
      ]
    },
    {
      "cell_type": "code",
      "metadata": {
        "id": "74B07JYPuFgW",
        "colab_type": "code",
        "colab": {
          "base_uri": "https://localhost:8080/",
          "height": 34
        },
        "outputId": "e1a7f66c-f0d0-4614-ec18-768de879bbee"
      },
      "source": [
        "if True:\n",
        "  print('Hello')"
      ],
      "execution_count": 60,
      "outputs": [
        {
          "output_type": "stream",
          "text": [
            "Hello\n"
          ],
          "name": "stdout"
        }
      ]
    },
    {
      "cell_type": "code",
      "metadata": {
        "id": "cP0oZ6tZuKYN",
        "colab_type": "code",
        "colab": {
          "base_uri": "https://localhost:8080/",
          "height": 34
        },
        "outputId": "60084373-8a74-430f-c4bd-5a90c65f2dac"
      },
      "source": [
        "a = 5\n",
        "b = 4\n",
        "if a<b: # ถ้า a น้อยกว่า b \n",
        "  print('Hello')\n",
        "else:  # ไม่เช่นนั้น\n",
        "  print('Good bye')"
      ],
      "execution_count": 61,
      "outputs": [
        {
          "output_type": "stream",
          "text": [
            "Good bye\n"
          ],
          "name": "stdout"
        }
      ]
    },
    {
      "cell_type": "markdown",
      "metadata": {
        "id": "h0KQTeQN2Xof",
        "colab_type": "text"
      },
      "source": [
        "\n",
        "\n",
        "---\n",
        "\n"
      ]
    },
    {
      "cell_type": "markdown",
      "metadata": {
        "id": "lLJgzUn42ZF1",
        "colab_type": "text"
      },
      "source": [
        "## Loop\n",
        "\n",
        "การทำซ้ำ \n",
        "\n",
        "*   ใช้ `for` เมื่อรู้แน่นอนว่าจะทำกี่ครั้ง\n",
        "*   ใช้ `while` เมื่อต้องการพิจารณาใหม่ทุกครั้งหลังทำครั้งที่แล้วเสร็จสิ้น\n",
        "\n",
        "\n"
      ]
    },
    {
      "cell_type": "markdown",
      "metadata": {
        "id": "FKPScL9Gjwdg",
        "colab_type": "text"
      },
      "source": [
        "### for list"
      ]
    },
    {
      "cell_type": "code",
      "metadata": {
        "id": "Feu4KPB62k0t",
        "colab_type": "code",
        "colab": {
          "base_uri": "https://localhost:8080/",
          "height": 119
        },
        "outputId": "8015e3e0-3fbc-4c3c-f6a7-f571d8faa1ca"
      },
      "source": [
        "nameList = ['winn','john','mike','tony','megan']\n",
        "\n",
        "for name in nameList: # วน for โดยนำค่าใน nameList จากการวนแต่ละครั้งมาใส่ที่ name\n",
        "  # มีการเว้นวรรคด้านหน้าเพื่อกำหนดขอบเขตเหมือน if\n",
        "  print('Hi,'+name)\n",
        "print('Loop finished')\n"
      ],
      "execution_count": 62,
      "outputs": [
        {
          "output_type": "stream",
          "text": [
            "Hi,winn\n",
            "Hi,john\n",
            "Hi,mike\n",
            "Hi,tony\n",
            "Hi,megan\n",
            "Loop finished\n"
          ],
          "name": "stdout"
        }
      ]
    },
    {
      "cell_type": "code",
      "metadata": {
        "id": "_OmNeK_rfsbN",
        "colab_type": "code",
        "colab": {
          "base_uri": "https://localhost:8080/",
          "height": 102
        },
        "outputId": "1d33d360-ba6c-425d-da12-3dd40eee3e1d"
      },
      "source": [
        "for i in range(0, len(nameList)): # วน for โดยใช้ตัวเลข index \n",
        "    # range(0, 5) -> [0, 1, 2, 3, 4]\n",
        "    print('Hello, student number', i, nameList[i])"
      ],
      "execution_count": 63,
      "outputs": [
        {
          "output_type": "stream",
          "text": [
            "Hello, student number 0 winn\n",
            "Hello, student number 1 john\n",
            "Hello, student number 2 mike\n",
            "Hello, student number 3 tony\n",
            "Hello, student number 4 megan\n"
          ],
          "name": "stdout"
        }
      ]
    },
    {
      "cell_type": "code",
      "metadata": {
        "id": "gJuQcp4Qg0Et",
        "colab_type": "code",
        "colab": {
          "base_uri": "https://localhost:8080/",
          "height": 102
        },
        "outputId": "61631f5d-aa3f-4e0a-92bf-b53d6c4abd77"
      },
      "source": [
        "for i, name in enumerate(nameList): # ได้ทั้งเลข index และค่าใน list \n",
        "    print('Hey, student', i, name)"
      ],
      "execution_count": 64,
      "outputs": [
        {
          "output_type": "stream",
          "text": [
            "Hey, student 0 winn\n",
            "Hey, student 1 john\n",
            "Hey, student 2 mike\n",
            "Hey, student 3 tony\n",
            "Hey, student 4 megan\n"
          ],
          "name": "stdout"
        }
      ]
    },
    {
      "cell_type": "markdown",
      "metadata": {
        "id": "IhGvP9ELjuQx",
        "colab_type": "text"
      },
      "source": [
        "### for dict"
      ]
    },
    {
      "cell_type": "code",
      "metadata": {
        "id": "lC6RWWWXi588",
        "colab_type": "code",
        "colab": {
          "base_uri": "https://localhost:8080/",
          "height": 136
        },
        "outputId": "69d98f80-4fc3-402f-ea73-eba9c8e8d265"
      },
      "source": [
        "print(\"My info is as follows:\")\n",
        "for key in mydic.keys(): # ใช้ .keys() เพื่อเอา key อย่างเดียว\n",
        "    print(key, mydic[key])"
      ],
      "execution_count": 65,
      "outputs": [
        {
          "output_type": "stream",
          "text": [
            "My info is as follows:\n",
            "nationality Thai\n",
            "company Botnoi\n",
            "height 182\n",
            "name arm\n",
            "hobby ['soccer', 'badminton']\n",
            "song {'singer': 'triumph kingdom'}\n"
          ],
          "name": "stdout"
        }
      ]
    },
    {
      "cell_type": "code",
      "metadata": {
        "id": "6DKR_wS7jnyC",
        "colab_type": "code",
        "colab": {
          "base_uri": "https://localhost:8080/",
          "height": 136
        },
        "outputId": "8c18ed8e-0dae-4eab-a954-82f40a8da0ca"
      },
      "source": [
        "print(\"My info is as follows:\")\n",
        "for key, value in mydic.items(): # ใช้ .items() เพื่อเอาทั้ง key และค่าจาก key นั้น\n",
        "    print(key, value)"
      ],
      "execution_count": 66,
      "outputs": [
        {
          "output_type": "stream",
          "text": [
            "My info is as follows:\n",
            "nationality Thai\n",
            "company Botnoi\n",
            "height 182\n",
            "name arm\n",
            "hobby ['soccer', 'badminton']\n",
            "song {'singer': 'triumph kingdom'}\n"
          ],
          "name": "stdout"
        }
      ]
    },
    {
      "cell_type": "markdown",
      "metadata": {
        "id": "pNBCTlg9kVSN",
        "colab_type": "text"
      },
      "source": [
        "### while"
      ]
    },
    {
      "cell_type": "code",
      "metadata": {
        "id": "3WI7F998kXVP",
        "colab_type": "code",
        "colab": {
          "base_uri": "https://localhost:8080/",
          "height": 34
        },
        "outputId": "a7754a14-1524-4d6a-a3d6-f02b613a5743"
      },
      "source": [
        "longlist = mylist + mylist + ['2']\n",
        "longlist"
      ],
      "execution_count": 67,
      "outputs": [
        {
          "output_type": "execute_result",
          "data": {
            "text/plain": [
              "[2, 4, 2.0, 'How are you?', 'winn', 2, 4, 2.0, 'How are you?', 'winn', '2']"
            ]
          },
          "metadata": {
            "tags": []
          },
          "execution_count": 67
        }
      ]
    },
    {
      "cell_type": "code",
      "metadata": {
        "id": "CvjegClTkg7C",
        "colab_type": "code",
        "colab": {
          "base_uri": "https://localhost:8080/",
          "height": 102
        },
        "outputId": "4bc9542f-0990-4093-fa53-7fde068d60c4"
      },
      "source": [
        "while 2 in longlist:\n",
        "    longlist.remove(2)\n",
        "    print(longlist)\n",
        "print('while loop is finished')"
      ],
      "execution_count": 68,
      "outputs": [
        {
          "output_type": "stream",
          "text": [
            "[4, 2.0, 'How are you?', 'winn', 2, 4, 2.0, 'How are you?', 'winn', '2']\n",
            "[4, 'How are you?', 'winn', 2, 4, 2.0, 'How are you?', 'winn', '2']\n",
            "[4, 'How are you?', 'winn', 4, 2.0, 'How are you?', 'winn', '2']\n",
            "[4, 'How are you?', 'winn', 4, 'How are you?', 'winn', '2']\n",
            "while loop is finished\n"
          ],
          "name": "stdout"
        }
      ]
    },
    {
      "cell_type": "markdown",
      "metadata": {
        "id": "gGbKrtrX4N1k",
        "colab_type": "text"
      },
      "source": [
        "## ข้อควรระวัง"
      ]
    },
    {
      "cell_type": "code",
      "metadata": {
        "id": "gWsQcxWb4lpk",
        "colab_type": "code",
        "colab": {
          "base_uri": "https://localhost:8080/",
          "height": 34
        },
        "outputId": "36e237fa-7f00-4362-ed22-e433c4c26460"
      },
      "source": [
        "superlonglist = mylist *10000\n",
        "len(superlonglist)"
      ],
      "execution_count": 69,
      "outputs": [
        {
          "output_type": "execute_result",
          "data": {
            "text/plain": [
              "50000"
            ]
          },
          "metadata": {
            "tags": []
          },
          "execution_count": 69
        }
      ]
    },
    {
      "cell_type": "code",
      "metadata": {
        "id": "q47zt_Lt5D1b",
        "colab_type": "code",
        "colab": {
          "base_uri": "https://localhost:8080/",
          "height": 68
        },
        "outputId": "fe8e7e44-db29-443c-d6ce-8f3341d1d4ba"
      },
      "source": [
        "# ใช้ for loop\n",
        "%%time\n",
        "for elem in superlonglist:\n",
        "    if elem == 2:\n",
        "        superlonglist.remove(2)\n",
        "print(len(superlonglist))"
      ],
      "execution_count": 70,
      "outputs": [
        {
          "output_type": "stream",
          "text": [
            "30000\n",
            "CPU times: user 4.6 s, sys: 164 µs, total: 4.6 s\n",
            "Wall time: 4.61 s\n"
          ],
          "name": "stdout"
        }
      ]
    },
    {
      "cell_type": "code",
      "metadata": {
        "id": "hO8L2uCpHnjO",
        "colab_type": "code",
        "colab": {
          "base_uri": "https://localhost:8080/",
          "height": 34
        },
        "outputId": "b5b751b5-b6c2-4d2a-ff17-71e454e7efdc"
      },
      "source": [
        "superlonglist = mylist *10000\n",
        "len(superlonglist)"
      ],
      "execution_count": 71,
      "outputs": [
        {
          "output_type": "execute_result",
          "data": {
            "text/plain": [
              "50000"
            ]
          },
          "metadata": {
            "tags": []
          },
          "execution_count": 71
        }
      ]
    },
    {
      "cell_type": "code",
      "metadata": {
        "id": "vKUHkybk5arw",
        "colab_type": "code",
        "colab": {
          "base_uri": "https://localhost:8080/",
          "height": 68
        },
        "outputId": "49f6951d-e388-43b2-e785-cd06642dd682"
      },
      "source": [
        "# ใช้ while loop\n",
        "%%time\n",
        "while 2 in superlonglist:\n",
        "    superlonglist.remove(2)\n",
        "print(len(superlonglist))"
      ],
      "execution_count": 72,
      "outputs": [
        {
          "output_type": "stream",
          "text": [
            "30000\n",
            "CPU times: user 8.38 s, sys: 2.94 ms, total: 8.38 s\n",
            "Wall time: 8.39 s\n"
          ],
          "name": "stdout"
        }
      ]
    },
    {
      "cell_type": "markdown",
      "metadata": {
        "id": "Q5I8z8eJ7c1N",
        "colab_type": "text"
      },
      "source": [
        "# Function\n",
        "\n",
        "สร้าง function เพื่อย่นการเขียนกระบวนการบางอย่างซ้ำไปซ้ำมา หากต้องการเปลี่ยนแปลงภายหลังสามารถแก้ได้ ณ จุดเดียว"
      ]
    },
    {
      "cell_type": "markdown",
      "metadata": {
        "id": "IUkumX8w-ymt",
        "colab_type": "text"
      },
      "source": [
        "## โครงสร้าง"
      ]
    },
    {
      "cell_type": "code",
      "metadata": {
        "id": "s05IixYL7hdx",
        "colab_type": "code",
        "colab": {}
      },
      "source": [
        "def sayhi(name):\n",
        "  name = name + 'ie'\n",
        "  return 'Hello, '+name"
      ],
      "execution_count": 73,
      "outputs": []
    },
    {
      "cell_type": "code",
      "metadata": {
        "id": "Du-rh28h7y_Q",
        "colab_type": "code",
        "colab": {
          "base_uri": "https://localhost:8080/",
          "height": 35
        },
        "outputId": "2eba0490-4716-4bad-c827-ed8e364e5288"
      },
      "source": [
        "name = 'Winn'\n",
        "sayhi(name)"
      ],
      "execution_count": 74,
      "outputs": [
        {
          "output_type": "execute_result",
          "data": {
            "application/vnd.google.colaboratory.intrinsic+json": {
              "type": "string"
            },
            "text/plain": [
              "'Hello, Winnie'"
            ]
          },
          "metadata": {
            "tags": []
          },
          "execution_count": 74
        }
      ]
    },
    {
      "cell_type": "code",
      "metadata": {
        "id": "SdHshm-UI7uU",
        "colab_type": "code",
        "colab": {
          "base_uri": "https://localhost:8080/",
          "height": 35
        },
        "outputId": "36e57d29-8abf-4c2f-e574-dda22304bb78"
      },
      "source": [
        "name2 = 'arm'\n",
        "sayhi(name2)"
      ],
      "execution_count": 75,
      "outputs": [
        {
          "output_type": "execute_result",
          "data": {
            "application/vnd.google.colaboratory.intrinsic+json": {
              "type": "string"
            },
            "text/plain": [
              "'Hello, armie'"
            ]
          },
          "metadata": {
            "tags": []
          },
          "execution_count": 75
        }
      ]
    },
    {
      "cell_type": "code",
      "metadata": {
        "id": "TzKoxE5H74-X",
        "colab_type": "code",
        "colab": {}
      },
      "source": [
        "def sumtwonum(a,b):\n",
        "  return a + b"
      ],
      "execution_count": 76,
      "outputs": []
    },
    {
      "cell_type": "code",
      "metadata": {
        "id": "Np_HX1HH8J0y",
        "colab_type": "code",
        "colab": {
          "base_uri": "https://localhost:8080/",
          "height": 34
        },
        "outputId": "b2dd3ceb-ea69-4bb1-ccfe-7d146ee676e6"
      },
      "source": [
        "sumtwonum(1,2)"
      ],
      "execution_count": 77,
      "outputs": [
        {
          "output_type": "execute_result",
          "data": {
            "text/plain": [
              "3"
            ]
          },
          "metadata": {
            "tags": []
          },
          "execution_count": 77
        }
      ]
    },
    {
      "cell_type": "code",
      "metadata": {
        "id": "0Uz_TWibo__2",
        "colab_type": "code",
        "colab": {
          "base_uri": "https://localhost:8080/",
          "height": 164
        },
        "outputId": "fc206101-a143-4109-f2c4-b88e4c75cf0c"
      },
      "source": [
        "sumtwonum(3)"
      ],
      "execution_count": 78,
      "outputs": [
        {
          "output_type": "error",
          "ename": "TypeError",
          "evalue": "ignored",
          "traceback": [
            "\u001b[0;31m---------------------------------------------------------------------------\u001b[0m",
            "\u001b[0;31mTypeError\u001b[0m                                 Traceback (most recent call last)",
            "\u001b[0;32m<ipython-input-78-57403a031acc>\u001b[0m in \u001b[0;36m<module>\u001b[0;34m()\u001b[0m\n\u001b[0;32m----> 1\u001b[0;31m \u001b[0msumtwonum\u001b[0m\u001b[0;34m(\u001b[0m\u001b[0;36m3\u001b[0m\u001b[0;34m)\u001b[0m\u001b[0;34m\u001b[0m\u001b[0;34m\u001b[0m\u001b[0m\n\u001b[0m",
            "\u001b[0;31mTypeError\u001b[0m: sumtwonum() missing 1 required positional argument: 'b'"
          ]
        }
      ]
    },
    {
      "cell_type": "markdown",
      "metadata": {
        "id": "nMBagzAT-4kw",
        "colab_type": "text"
      },
      "source": [
        "## การกำหนดค่า default"
      ]
    },
    {
      "cell_type": "code",
      "metadata": {
        "id": "_twBzdaqpNZx",
        "colab_type": "code",
        "colab": {}
      },
      "source": [
        "def multwonum(a=1,b=1):\n",
        "  return a * b"
      ],
      "execution_count": 79,
      "outputs": []
    },
    {
      "cell_type": "code",
      "metadata": {
        "id": "47YKytTypUCM",
        "colab_type": "code",
        "colab": {
          "base_uri": "https://localhost:8080/",
          "height": 34
        },
        "outputId": "1839f03e-0ecd-4443-ba80-b38f9fc4969b"
      },
      "source": [
        "multwonum(3,2)"
      ],
      "execution_count": 80,
      "outputs": [
        {
          "output_type": "execute_result",
          "data": {
            "text/plain": [
              "6"
            ]
          },
          "metadata": {
            "tags": []
          },
          "execution_count": 80
        }
      ]
    },
    {
      "cell_type": "code",
      "metadata": {
        "id": "mLIWBPlvpZLq",
        "colab_type": "code",
        "colab": {
          "base_uri": "https://localhost:8080/",
          "height": 34
        },
        "outputId": "7015c127-fc77-4765-a6ee-12657e6358d6"
      },
      "source": [
        "multwonum(3)"
      ],
      "execution_count": 81,
      "outputs": [
        {
          "output_type": "execute_result",
          "data": {
            "text/plain": [
              "3"
            ]
          },
          "metadata": {
            "tags": []
          },
          "execution_count": 81
        }
      ]
    },
    {
      "cell_type": "code",
      "metadata": {
        "id": "xmV221jIKUi1",
        "colab_type": "code",
        "colab": {
          "base_uri": "https://localhost:8080/",
          "height": 34
        },
        "outputId": "bd90f4c8-ec0d-4fb2-c439-ade7f7fa5501"
      },
      "source": [
        "def power(a, b=1):\n",
        "    return a**b\n",
        "power(2,3)"
      ],
      "execution_count": 82,
      "outputs": [
        {
          "output_type": "execute_result",
          "data": {
            "text/plain": [
              "8"
            ]
          },
          "metadata": {
            "tags": []
          },
          "execution_count": 82
        }
      ]
    },
    {
      "cell_type": "code",
      "metadata": {
        "id": "rAzOrc4yK7Ki",
        "colab_type": "code",
        "colab": {
          "base_uri": "https://localhost:8080/",
          "height": 34
        },
        "outputId": "3650a4ee-2add-4f30-f038-856d98a67062"
      },
      "source": [
        "power(3,2)"
      ],
      "execution_count": 83,
      "outputs": [
        {
          "output_type": "execute_result",
          "data": {
            "text/plain": [
              "9"
            ]
          },
          "metadata": {
            "tags": []
          },
          "execution_count": 83
        }
      ]
    },
    {
      "cell_type": "code",
      "metadata": {
        "id": "hbwwJGklKcKo",
        "colab_type": "code",
        "colab": {
          "base_uri": "https://localhost:8080/",
          "height": 34
        },
        "outputId": "41fb52b1-da47-47ed-be31-ca9c4ec6831a"
      },
      "source": [
        "power(2)"
      ],
      "execution_count": 84,
      "outputs": [
        {
          "output_type": "execute_result",
          "data": {
            "text/plain": [
              "2"
            ]
          },
          "metadata": {
            "tags": []
          },
          "execution_count": 84
        }
      ]
    },
    {
      "cell_type": "code",
      "metadata": {
        "id": "o719ZreXKisA",
        "colab_type": "code",
        "colab": {
          "base_uri": "https://localhost:8080/",
          "height": 34
        },
        "outputId": "93b184dc-51dd-4869-c24f-2c9f94fcb964"
      },
      "source": [
        "power(a=3, b=2)"
      ],
      "execution_count": 85,
      "outputs": [
        {
          "output_type": "execute_result",
          "data": {
            "text/plain": [
              "9"
            ]
          },
          "metadata": {
            "tags": []
          },
          "execution_count": 85
        }
      ]
    },
    {
      "cell_type": "code",
      "metadata": {
        "id": "mqTjAADeK1lt",
        "colab_type": "code",
        "colab": {
          "base_uri": "https://localhost:8080/",
          "height": 34
        },
        "outputId": "cb7c15d8-454f-4fac-fa04-f74c6d7b5355"
      },
      "source": [
        "power(b=2, a=3)"
      ],
      "execution_count": 86,
      "outputs": [
        {
          "output_type": "execute_result",
          "data": {
            "text/plain": [
              "9"
            ]
          },
          "metadata": {
            "tags": []
          },
          "execution_count": 86
        }
      ]
    },
    {
      "cell_type": "markdown",
      "metadata": {
        "id": "1R1CrXHG-Vck",
        "colab_type": "text"
      },
      "source": [
        "# Classes & Objects"
      ]
    },
    {
      "cell_type": "code",
      "metadata": {
        "id": "xffomP-5-ZQt",
        "colab_type": "code",
        "colab": {}
      },
      "source": [
        "class car:\n",
        "  def __init__(self,color,brand,speed):\n",
        "    self.color = color\n",
        "    self.brand = brand\n",
        "    self.speed = speed\n",
        "    self.position = 0\n",
        "  def moveforward(self,time):\n",
        "    self.position = self.position + self.speed * time\n",
        "  def movebackward(self,time):\n",
        "    self.position = self.position - self.speed * time"
      ],
      "execution_count": 87,
      "outputs": []
    },
    {
      "cell_type": "code",
      "metadata": {
        "id": "7sYXcoaj_KGp",
        "colab_type": "code",
        "colab": {
          "base_uri": "https://localhost:8080/",
          "height": 119
        },
        "outputId": "310fe7ee-f8f7-47ba-9ba3-52096a669f51"
      },
      "source": [
        "winncar = car('blue','honda',60)\n",
        "print(winncar.color)\n",
        "print(winncar.brand)\n",
        "print(winncar.speed)\n",
        "print(winncar.position)\n",
        "winncar.moveforward(2)\n",
        "print(winncar.position)\n",
        "winncar.movebackward(1)\n",
        "print(winncar.position)"
      ],
      "execution_count": 88,
      "outputs": [
        {
          "output_type": "stream",
          "text": [
            "blue\n",
            "honda\n",
            "60\n",
            "0\n",
            "120\n",
            "60\n"
          ],
          "name": "stdout"
        }
      ]
    },
    {
      "cell_type": "code",
      "metadata": {
        "id": "51t1gv5M_pmr",
        "colab_type": "code",
        "colab": {
          "base_uri": "https://localhost:8080/",
          "height": 119
        },
        "outputId": "e2e165e0-38ee-4e07-8010-a9a81bb9de4f"
      },
      "source": [
        "tonycar = car('black','mercedes',80)\n",
        "print(tonycar.color)\n",
        "print(tonycar.brand)\n",
        "print(tonycar.speed)\n",
        "print(tonycar.position)\n",
        "tonycar.moveforward(5)\n",
        "print(tonycar.position)\n",
        "tonycar.movebackward(3)\n",
        "print(tonycar.position)"
      ],
      "execution_count": 89,
      "outputs": [
        {
          "output_type": "stream",
          "text": [
            "black\n",
            "mercedes\n",
            "80\n",
            "0\n",
            "400\n",
            "160\n"
          ],
          "name": "stdout"
        }
      ]
    },
    {
      "cell_type": "markdown",
      "metadata": {
        "id": "xaiwGcuq-cA-",
        "colab_type": "text"
      },
      "source": [
        "## Inheritance"
      ]
    },
    {
      "cell_type": "code",
      "metadata": {
        "id": "MQQ8tJ35nB9q",
        "colab_type": "code",
        "colab": {}
      },
      "source": [
        "class elec_car(car): # สมบัติการถ่ายทอด\n",
        "    def __init__(self, color, brand, speed, battery=100):\n",
        "        self.color = color\n",
        "        self.brand = brand\n",
        "        self.speed = speed\n",
        "        self.battery = battery\n",
        "        self.position = 0\n",
        "    def moveforward(self,time):\n",
        "        self.position = self.position + self.speed * time\n",
        "        self.drainbattery(time)\n",
        "\n",
        "    def drainbattery(self, time):\n",
        "        self.battery = self.battery - 10 * time\n",
        "\n",
        "    def chargebattery(self):\n",
        "        self.battery = 100\n",
        "\n",
        "    def report_stat(self):\n",
        "        print(f\"I'm at position {self.position} with battery {self.battery}\")"
      ],
      "execution_count": 90,
      "outputs": []
    },
    {
      "cell_type": "code",
      "metadata": {
        "id": "rdSwrrqUrMF2",
        "colab_type": "code",
        "colab": {
          "base_uri": "https://localhost:8080/",
          "height": 187
        },
        "outputId": "2da80089-2995-4444-d4c5-0b0a5ef9c061"
      },
      "source": [
        "eloncar = elec_car(color='white', brand='tesla', speed=100, battery=50)\n",
        "print(eloncar.color)\n",
        "print(eloncar.brand)\n",
        "print(eloncar.speed)\n",
        "print(eloncar.position)\n",
        "print(\"Elon moves forward\")\n",
        "eloncar.moveforward(2)\n",
        "eloncar.report_stat()\n",
        "print(\"Elon charges battery\")\n",
        "eloncar.chargebattery()\n",
        "eloncar.report_stat()\n",
        "print(\"Elon moves backward\")\n",
        "eloncar.movebackward(1)\n",
        "eloncar.report_stat()\n"
      ],
      "execution_count": 91,
      "outputs": [
        {
          "output_type": "stream",
          "text": [
            "white\n",
            "tesla\n",
            "100\n",
            "0\n",
            "Elon moves forward\n",
            "I'm at position 200 with battery 30\n",
            "Elon charges battery\n",
            "I'm at position 200 with battery 100\n",
            "Elon moves backward\n",
            "I'm at position 100 with battery 100\n"
          ],
          "name": "stdout"
        }
      ]
    },
    {
      "cell_type": "markdown",
      "metadata": {
        "id": "KtMuY8y19YIN",
        "colab_type": "text"
      },
      "source": [
        "# Library\n",
        "library คือการรวม class และ function ต่าง ๆ ที่คนอื่นเขียนขึ้นมา เราเพียงทำการ import และนำไปใช้เท่านั้น"
      ]
    },
    {
      "cell_type": "code",
      "metadata": {
        "id": "2Z4_ECNz9XYa",
        "colab_type": "code",
        "colab": {
          "base_uri": "https://localhost:8080/",
          "height": 34
        },
        "outputId": "409aa61f-6187-49c8-b99b-2f4d793da1f8"
      },
      "source": [
        "import numpy as np\n",
        "a = [2,3,6,1,2,5,2,9,8]\n",
        "a = np.array(a)\n",
        "a"
      ],
      "execution_count": 92,
      "outputs": [
        {
          "output_type": "execute_result",
          "data": {
            "text/plain": [
              "array([2, 3, 6, 1, 2, 5, 2, 9, 8])"
            ]
          },
          "metadata": {
            "tags": []
          },
          "execution_count": 92
        }
      ]
    },
    {
      "cell_type": "code",
      "metadata": {
        "id": "1e1ZTGgc94OC",
        "colab_type": "code",
        "colab": {
          "base_uri": "https://localhost:8080/",
          "height": 68
        },
        "outputId": "c79d0d77-d110-4979-a40d-cc190cf6fae7"
      },
      "source": [
        "print(a.mean())\n",
        "print(a.std())\n",
        "print(a.cumsum())"
      ],
      "execution_count": 93,
      "outputs": [
        {
          "output_type": "stream",
          "text": [
            "4.222222222222222\n",
            "2.739739556875101\n",
            "[ 2  5 11 12 14 19 21 30 38]\n"
          ],
          "name": "stdout"
        }
      ]
    },
    {
      "cell_type": "code",
      "metadata": {
        "id": "cC7M1rKP7eZA",
        "colab_type": "code",
        "colab": {
          "base_uri": "https://localhost:8080/",
          "height": 85
        },
        "outputId": "6c1022ea-7699-45c9-d39d-3e3efa0efa33"
      },
      "source": [
        "a = np.array([3,4,7])\n",
        "b = np.array([2,2,3])\n",
        "\n",
        "print('a=', a)\n",
        "print('b=', b)\n",
        "print('a+b=', a+b)\n",
        "print('a•b=', np.dot(a,b))\n",
        "\n"
      ],
      "execution_count": 94,
      "outputs": [
        {
          "output_type": "stream",
          "text": [
            "a= [3 4 7]\n",
            "b= [2 2 3]\n",
            "a+b= [ 5  6 10]\n",
            "a•b= 35\n"
          ],
          "name": "stdout"
        }
      ]
    },
    {
      "cell_type": "code",
      "metadata": {
        "id": "MbvYTZpUP79y",
        "colab_type": "code",
        "colab": {
          "base_uri": "https://localhost:8080/",
          "height": 34
        },
        "outputId": "2c599aa6-034c-4709-d903-f1984c4848cd"
      },
      "source": [
        "print('a x b=', np.cross(a,b))"
      ],
      "execution_count": 95,
      "outputs": [
        {
          "output_type": "stream",
          "text": [
            "a x b= [-2  5 -2]\n"
          ],
          "name": "stdout"
        }
      ]
    },
    {
      "cell_type": "code",
      "metadata": {
        "id": "fan17UgL96qG",
        "colab_type": "code",
        "colab": {
          "base_uri": "https://localhost:8080/",
          "height": 282
        },
        "outputId": "b204e8ba-8bca-4b4a-d853-a12161f9c3bc"
      },
      "source": [
        "import pylab as py # library ผสมระหว่าง numpy และ matplotlib \n",
        "py.plot(a)"
      ],
      "execution_count": 96,
      "outputs": [
        {
          "output_type": "execute_result",
          "data": {
            "text/plain": [
              "[<matplotlib.lines.Line2D at 0x7fa7afc90860>]"
            ]
          },
          "metadata": {
            "tags": []
          },
          "execution_count": 96
        },
        {
          "output_type": "display_data",
          "data": {
            "image/png": "[encoded data removed]",
            "text/plain": [
              "<Figure size 432x288 with 1 Axes>"
            ]
          },
          "metadata": {
            "tags": [],
            "needs_background": "light"
          }
        }
      ]
    },
    {
      "cell_type": "code",
      "metadata": {
        "id": "n2y13zNogaWw",
        "colab_type": "code",
        "colab": {}
      },
      "source": [
        ""
      ],
      "execution_count": 96,
      "outputs": []
    }
  ]
}